{
 "cells": [
  {
   "cell_type": "code",
   "execution_count": 0,
   "metadata": {
    "application/vnd.databricks.v1+cell": {
     "cellMetadata": {
      "byteLimit": 2048000,
      "rowLimit": 10000
     },
     "inputWidgets": {},
     "nuid": "17ba5e28-e15d-4ea3-9e1f-6e329c4210da",
     "showTitle": false,
     "tableResultSettingsMap": {},
     "title": ""
    }
   },
   "outputs": [],
   "source": [
    "CREATE WIDGET TEXT catalog DEFAULT 'first_phase';\n",
    "CREATE WIDGET TEXT bronze_schema DEFAULT 'bronze';\n",
    "CREATE WIDGET TEXT source_catalog DEFAULT 'samples';\n",
    "CREATE WIDGET TEXT source_schema  DEFAULT 'tpch';\n",
    "\n",
    "USE CATALOG ${catalog};\n",
    "USE SCHEMA ${bronze_schema};\n"
   ]
  },
  {
   "cell_type": "markdown",
   "metadata": {
    "application/vnd.databricks.v1+cell": {
     "cellMetadata": {
      "byteLimit": 2048000,
      "rowLimit": 10000
     },
     "inputWidgets": {},
     "nuid": "ee436b0f-77b4-4680-9817-7c66a62c30c1",
     "showTitle": false,
     "tableResultSettingsMap": {},
     "title": ""
    }
   },
   "source": [
    "Basic check if the number of rows in the original data and data transfered to the bronze schema is he same"
   ]
  },
  {
   "cell_type": "code",
   "execution_count": 0,
   "metadata": {
    "application/vnd.databricks.v1+cell": {
     "cellMetadata": {
      "byteLimit": 2048000,
      "rowLimit": 10000
     },
     "inputWidgets": {},
     "nuid": "276c2c6f-64aa-4b98-8fdb-fbaccde4726f",
     "showTitle": false,
     "tableResultSettingsMap": {},
     "title": ""
    }
   },
   "outputs": [],
   "source": [
    "WITH src AS (\n",
    "  SELECT 'customer' tbl, COUNT(*) n FROM ${source_catalog}.${source_schema}.customer UNION ALL\n",
    "  SELECT 'orders', COUNT(*) FROM ${source_catalog}.${source_schema}.orders UNION ALL\n",
    "  SELECT 'lineitem', COUNT(*) FROM ${source_catalog}.${source_schema}.lineitem UNION ALL\n",
    "  SELECT 'nation', COUNT(*) FROM ${source_catalog}.${source_schema}.nation UNION ALL\n",
    "  SELECT 'region', COUNT(*) FROM ${source_catalog}.${source_schema}.region UNION ALL\n",
    "  SELECT 'part', COUNT(*) FROM ${source_catalog}.${source_schema}.part UNION ALL\n",
    "  SELECT 'partsupp', COUNT(*) FROM ${source_catalog}.${source_schema}.partsupp UNION ALL\n",
    "  SELECT 'supplier', COUNT(*) FROM ${source_catalog}.${source_schema}.supplier\n",
    "),\n",
    "brz AS (\n",
    "  SELECT 'customer' tbl, COUNT(*) n FROM ${catalog}.${bronze_schema}.customer UNION ALL\n",
    "  SELECT 'orders', COUNT(*) FROM ${catalog}.${bronze_schema}.orders UNION ALL\n",
    "  SELECT 'lineitem', COUNT(*) FROM ${catalog}.${bronze_schema}.lineitem UNION ALL\n",
    "  SELECT 'nation', COUNT(*) FROM ${catalog}.${bronze_schema}.nation UNION ALL\n",
    "  SELECT 'region', COUNT(*) FROM ${catalog}.${bronze_schema}.region UNION ALL\n",
    "  SELECT 'part', COUNT(*) FROM ${catalog}.${bronze_schema}.part UNION ALL\n",
    "  SELECT 'partsupp', COUNT(*) FROM ${catalog}.${bronze_schema}.partsupp UNION ALL\n",
    "  SELECT 'supplier', COUNT(*) FROM ${catalog}.${bronze_schema}.supplier\n",
    ")\n",
    "SELECT s.tbl, s.n AS original_source_rows, b.n AS bronze_rows, (s.n = b.n) AS counts_match\n",
    "FROM src s JOIN brz b USING (tbl)\n",
    "ORDER BY tbl;\n"
   ]
  },
  {
   "cell_type": "markdown",
   "metadata": {
    "application/vnd.databricks.v1+cell": {
     "cellMetadata": {
      "byteLimit": 2048000,
      "rowLimit": 10000
     },
     "inputWidgets": {},
     "nuid": "3886ac02-8526-4977-a03a-8af851c1a17a",
     "showTitle": false,
     "tableResultSettingsMap": {},
     "title": ""
    }
   },
   "source": [
    "Looking for missing or extra data in bronze schema or mismatch of types"
   ]
  },
  {
   "cell_type": "code",
   "execution_count": 0,
   "metadata": {
    "application/vnd.databricks.v1+cell": {
     "cellMetadata": {
      "byteLimit": 2048000,
      "rowLimit": 10000
     },
     "inputWidgets": {},
     "nuid": "f8f28c92-7e38-4c7b-bafb-5a443de2c7dd",
     "showTitle": false,
     "tableResultSettingsMap": {},
     "title": ""
    }
   },
   "outputs": [],
   "source": [
    "-- look for missing data in bronze\n",
    "SELECT 'not_in_bronze' AS issue,s.table_name, s.column_name, s.data_type\n",
    "FROM ${source_catalog}.information_schema.columns s\n",
    "LEFT JOIN ${catalog}.information_schema.columns b \n",
    "  ON b.table_schema = '${bronze_schema}'\n",
    "  AND b.table_name = s.table_name\n",
    "  AND b.column_name = s.column_name\n",
    "WHERE s.table_schema = '${source_schema}' AND b.column_name IS NULL\n",
    "ORDER BY s.table_name, s.ordinal_position;"
   ]
  },
  {
   "cell_type": "code",
   "execution_count": 0,
   "metadata": {
    "application/vnd.databricks.v1+cell": {
     "cellMetadata": {
      "byteLimit": 2048000,
      "rowLimit": 10000
     },
     "inputWidgets": {},
     "nuid": "f7dffec6-2a77-4110-a096-e98e304d7f9d",
     "showTitle": false,
     "tableResultSettingsMap": {},
     "title": ""
    }
   },
   "outputs": [],
   "source": [
    "-- look for extra data in bronze\n",
    "SELECT 'extra_in_bronze' AS issue, b.table_name, b.column_name, b.data_type\n",
    "FROM ${catalog}.information_schema.columns b\n",
    "LEFT JOIN ${source_catalog}.information_schema.columns s\n",
    "  ON s.table_schema = '${source_schema}'\n",
    "  AND s.table_name = b.table_name\n",
    "  AND s.column_name = b.column_name\n",
    "WHERE b.table_schema = '${bronze_schema}' AND s.column_name IS NULL\n",
    "ORDER BY b.table_name, b.ordinal_position;\n"
   ]
  },
  {
   "cell_type": "code",
   "execution_count": 0,
   "metadata": {
    "application/vnd.databricks.v1+cell": {
     "cellMetadata": {
      "byteLimit": 2048000,
      "rowLimit": 10000
     },
     "inputWidgets": {},
     "nuid": "5b16a756-a0bb-42dc-aabc-b9a180ad17f2",
     "showTitle": false,
     "tableResultSettingsMap": {},
     "title": ""
    }
   },
   "outputs": [],
   "source": [
    "-- look for the type mismatch\n",
    "SELECT 'type_mismatch' AS issue, s.table_name, s.column_name, s.data_type AS src_type, b.data_type AS bronze_type\n",
    "FROM ${source_catalog}.information_schema.columns s\n",
    "JOIN ${catalog}.information_schema.columns b\n",
    "  ON b.table_schema = '${bronze_schema}'\n",
    "  AND b.table_name = s.table_name\n",
    "  AND b.column_name = s.column_name\n",
    "WHERE s.table_schema = '${source_schema}' AND s.data_type <> b.data_type\n",
    "ORDER BY s.table_name, s.column_name;\n"
   ]
  },
  {
   "cell_type": "markdown",
   "metadata": {
    "application/vnd.databricks.v1+cell": {
     "cellMetadata": {
      "byteLimit": 2048000,
      "rowLimit": 10000
     },
     "inputWidgets": {},
     "nuid": "52c802cd-a2f1-40e0-b676-5ad7e9dd0a31",
     "showTitle": false,
     "tableResultSettingsMap": {},
     "title": ""
    }
   },
   "source": [
    "Cheking if the primary keys are unique"
   ]
  },
  {
   "cell_type": "code",
   "execution_count": 0,
   "metadata": {
    "application/vnd.databricks.v1+cell": {
     "cellMetadata": {
      "byteLimit": 2048000,
      "rowLimit": 10000
     },
     "inputWidgets": {},
     "nuid": "aedb7841-b713-41ea-b5d0-77bb0c96e51a",
     "showTitle": false,
     "tableResultSettingsMap": {},
     "title": ""
    }
   },
   "outputs": [],
   "source": [
    "WITH duplicate_results AS (\n",
    "  SELECT 'customer' AS table_name, COUNT(*) AS duplicates FROM (\n",
    "    SELECT c_custkey, COUNT(*) c FROM ${catalog}.${bronze_schema}.customer GROUP BY c_custkey HAVING COUNT(*)>1\n",
    "  ) UNION ALL\n",
    "  SELECT 'orders', COUNT(*) FROM (\n",
    "    SELECT o_orderkey, COUNT(*) c FROM ${catalog}.${bronze_schema}.orders GROUP BY o_orderkey HAVING COUNT(*)>1\n",
    "  ) UNION ALL\n",
    "  SELECT 'lineitem', COUNT(*) FROM (\n",
    "    SELECT l_orderkey, l_linenumber, COUNT(*) c FROM ${catalog}.${bronze_schema}.lineitem GROUP BY l_orderkey,l_linenumber HAVING COUNT(*)>1\n",
    "  ) UNION ALL\n",
    "  SELECT 'nation', COUNT(*) FROM (\n",
    "    SELECT n_nationkey, COUNT(*) c FROM ${catalog}.${bronze_schema}.nation GROUP BY n_nationkey HAVING COUNT(*)>1\n",
    "  ) UNION ALL\n",
    "  SELECT 'region', COUNT(*) FROM (\n",
    "    SELECT r_regionkey, COUNT(*) c FROM ${catalog}.${bronze_schema}.region GROUP BY r_regionkey HAVING COUNT(*)>1\n",
    "  ) UNION ALL\n",
    "  SELECT 'part', COUNT(*) FROM (\n",
    "    SELECT p_partkey, COUNT(*) c FROM ${catalog}.${bronze_schema}.part GROUP BY p_partkey HAVING COUNT(*)>1\n",
    "  ) UNION ALL\n",
    "  SELECT 'supplier', COUNT(*) FROM (\n",
    "    SELECT s_suppkey, COUNT(*) c FROM ${catalog}.${bronze_schema}.supplier GROUP BY s_suppkey HAVING COUNT(*)>1\n",
    "  ) UNION ALL\n",
    "  SELECT 'partsupp', COUNT(*) FROM (\n",
    "    SELECT ps_partkey, ps_suppkey, COUNT(*) c FROM ${catalog}.${bronze_schema}.partsupp GROUP BY ps_partkey,ps_suppkey HAVING COUNT(*)>1\n",
    "  )\n",
    ")\n",
    "SELECT * FROM duplicate_results ORDER BY table_name;\n",
    "\n"
   ]
  },
  {
   "cell_type": "markdown",
   "metadata": {
    "application/vnd.databricks.v1+cell": {
     "cellMetadata": {
      "byteLimit": 2048000,
      "rowLimit": 10000
     },
     "inputWidgets": {},
     "nuid": "d0a1a8d2-f62f-425a-bde4-0528f6fcfee3",
     "showTitle": false,
     "tableResultSettingsMap": {},
     "title": ""
    }
   },
   "source": [
    "Checking for NULL values"
   ]
  },
  {
   "cell_type": "code",
   "execution_count": 0,
   "metadata": {
    "application/vnd.databricks.v1+cell": {
     "cellMetadata": {
      "byteLimit": 2048000,
      "rowLimit": 10000
     },
     "inputWidgets": {},
     "nuid": "9b3102ff-43bd-4d81-8127-37716e0666ec",
     "showTitle": false,
     "tableResultSettingsMap": {},
     "title": ""
    }
   },
   "outputs": [],
   "source": [
    "SELECT tbl, col,\n",
    "COUNT(1) AS rows,\n",
    "SUM(CASE WHEN val IS NULL THEN 1 ELSE 0 END) AS nulls\n",
    "\n",
    "FROM (\n",
    "  SELECT 'customer' AS tbl, 'c_custkey' AS col, c_custkey AS val FROM ${catalog}.${bronze_schema}.customer UNION ALL \n",
    "  SELECT 'orders', 'o_orderkey', o_orderkey AS val FROM ${catalog}.${bronze_schema}.orders UNION ALL \n",
    "  SELECT 'lineitem', 'l_orderkey', l_orderkey AS val FROM ${catalog}.${bronze_schema}.lineitem UNION ALL \n",
    "  SELECT 'lineitem', 'l_quantity', CAST(l_quantity AS DOUBLE) AS val FROM ${catalog}.${bronze_schema}.lineitem UNION ALL \n",
    "  SELECT 'part', 'p_partkey', p_partkey AS val FROM ${catalog}.${bronze_schema}.part\n",
    ") t\n",
    "GROUP BY tbl, col\n"
   ]
  }
 ],
 "metadata": {
  "application/vnd.databricks.v1+notebook": {
   "computePreferences": null,
   "dashboards": [],
   "environmentMetadata": {
    "base_environment": "",
    "environment_version": "3"
   },
   "inputWidgetPreferences": null,
   "language": "sql",
   "notebookMetadata": {
    "pythonIndentUnit": 4
   },
   "notebookName": "bronze_validations",
   "widgets": {
    "bronze_schema": {
     "currentValue": "bronze",
     "nuid": "d9fdc1c4-6ad2-4620-a213-f83247724193",
     "typedWidgetInfo": {
      "autoCreated": false,
      "defaultValue": "bronze",
      "label": null,
      "name": "bronze_schema",
      "options": {
       "widgetDisplayType": "Text",
       "validationRegex": null
      },
      "parameterDataType": "String"
     },
     "widgetInfo": {
      "widgetType": "text",
      "defaultValue": "bronze",
      "label": null,
      "name": "bronze_schema",
      "options": {
       "widgetType": "text",
       "autoCreated": null,
       "validationRegex": null
      }
     }
    },
    "catalog": {
     "currentValue": "first_phase",
     "nuid": "21c15619-7b36-493f-a899-3b5116c55e9e",
     "typedWidgetInfo": {
      "autoCreated": false,
      "defaultValue": "first_phase",
      "label": null,
      "name": "catalog",
      "options": {
       "widgetDisplayType": "Text",
       "validationRegex": null
      },
      "parameterDataType": "String"
     },
     "widgetInfo": {
      "widgetType": "text",
      "defaultValue": "first_phase",
      "label": null,
      "name": "catalog",
      "options": {
       "widgetType": "text",
       "autoCreated": null,
       "validationRegex": null
      }
     }
    },
    "source_catalog": {
     "currentValue": "samples",
     "nuid": "bc1924a5-c806-4eed-b29e-737f4944722f",
     "typedWidgetInfo": {
      "autoCreated": false,
      "defaultValue": "samples",
      "label": null,
      "name": "source_catalog",
      "options": {
       "widgetDisplayType": "Text",
       "validationRegex": null
      },
      "parameterDataType": "String"
     },
     "widgetInfo": {
      "widgetType": "text",
      "defaultValue": "samples",
      "label": null,
      "name": "source_catalog",
      "options": {
       "widgetType": "text",
       "autoCreated": null,
       "validationRegex": null
      }
     }
    },
    "source_schema": {
     "currentValue": "tpch",
     "nuid": "eebc444c-4e8b-4143-b8d9-d918292e8430",
     "typedWidgetInfo": {
      "autoCreated": false,
      "defaultValue": "tpch",
      "label": null,
      "name": "source_schema",
      "options": {
       "widgetDisplayType": "Text",
       "validationRegex": null
      },
      "parameterDataType": "String"
     },
     "widgetInfo": {
      "widgetType": "text",
      "defaultValue": "tpch",
      "label": null,
      "name": "source_schema",
      "options": {
       "widgetType": "text",
       "autoCreated": null,
       "validationRegex": null
      }
     }
    }
   }
  },
  "language_info": {
   "name": "sql"
  }
 },
 "nbformat": 4,
 "nbformat_minor": 0
}
