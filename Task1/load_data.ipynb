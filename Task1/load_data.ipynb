{
 "cells": [
  {
   "cell_type": "code",
   "execution_count": 0,
   "metadata": {
    "application/vnd.databricks.v1+cell": {
     "cellMetadata": {
      "byteLimit": 2048000,
      "rowLimit": 10000
     },
     "inputWidgets": {},
     "nuid": "9594131b-39fd-4a41-b74e-f800268a1977",
     "showTitle": false,
     "tableResultSettingsMap": {},
     "title": ""
    }
   },
   "outputs": [],
   "source": [
    "%python\n",
    "# Databricks notebook\n",
    "from pyspark.sql import functions as F\n",
    "\n",
    "# Show README of the public TPCH dataset\n",
    "with open('/dbfs/databricks-datasets/tpch/README.md','r') as f:\n",
    "    content = f.read()\n",
    "displayHTML(f\"<pre>{content}</pre>\")\n",
    "\n",
    "# Quick profile of source tables (samples.tpch)\n",
    "source_catalog = \"samples\"\n",
    "source_schema  = \"tpch\"\n",
    "tables = [\"customer\",\"orders\",\"lineitem\",\"nation\",\"region\",\"part\",\"partsupp\",\"supplier\"]\n",
    "\n",
    "for t in tables:\n",
    "    df = spark.table(f\"{source_catalog}.{source_schema}.{t}\")\n",
    "    display(df.limit(10))\n",
    "    print(t, \"rows:\", df.count())\n"
   ]
  }
 ],
 "metadata": {
  "application/vnd.databricks.v1+notebook": {
   "computePreferences": null,
   "dashboards": [],
   "environmentMetadata": {
    "base_environment": "",
    "environment_version": "3"
   },
   "inputWidgetPreferences": null,
   "language": "python",
   "notebookMetadata": {
    "pythonIndentUnit": 4
   },
   "notebookName": "load_data",
   "widgets": {
    "bronze_schema": {
     "currentValue": "bronze",
     "nuid": "a2c88bd2-eaa7-4610-99fe-e924f27b9800",
     "typedWidgetInfo": {
      "autoCreated": false,
      "defaultValue": "bronze",
      "label": null,
      "name": "bronze_schema",
      "options": {
       "widgetDisplayType": "Text",
       "validationRegex": null
      },
      "parameterDataType": "String"
     },
     "widgetInfo": {
      "widgetType": "text",
      "defaultValue": "bronze",
      "label": null,
      "name": "bronze_schema",
      "options": {
       "widgetType": "text",
       "autoCreated": null,
       "validationRegex": null
      }
     }
    },
    "catalog": {
     "currentValue": "first_phase",
     "nuid": "323f7000-34c5-44c7-a65f-566a3ec91f75",
     "typedWidgetInfo": {
      "autoCreated": false,
      "defaultValue": "first_phase",
      "label": "",
      "name": "catalog",
      "options": {
       "widgetDisplayType": "Text",
       "validationRegex": null
      },
      "parameterDataType": "String"
     },
     "widgetInfo": {
      "widgetType": "text",
      "defaultValue": "first_phase",
      "label": "",
      "name": "catalog",
      "options": {
       "widgetType": "text",
       "autoCreated": false,
       "validationRegex": null
      }
     }
    },
    "silver_schema": {
     "currentValue": "silver",
     "nuid": "ee460e5c-2a59-483f-992b-c626c7a1d067",
     "typedWidgetInfo": {
      "autoCreated": false,
      "defaultValue": "silver",
      "label": null,
      "name": "silver_schema",
      "options": {
       "widgetDisplayType": "Text",
       "validationRegex": null
      },
      "parameterDataType": "String"
     },
     "widgetInfo": {
      "widgetType": "text",
      "defaultValue": "silver",
      "label": null,
      "name": "silver_schema",
      "options": {
       "widgetType": "text",
       "autoCreated": null,
       "validationRegex": null
      }
     }
    }
   }
  },
  "language_info": {
   "name": "python"
  }
 },
 "nbformat": 4,
 "nbformat_minor": 0
}
