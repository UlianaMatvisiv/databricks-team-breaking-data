{
 "cells": [
  {
   "cell_type": "code",
   "execution_count": 0,
   "metadata": {
    "application/vnd.databricks.v1+cell": {
     "cellMetadata": {
      "byteLimit": 2048000,
      "implicitDf": true,
      "rowLimit": 10000
     },
     "inputWidgets": {},
     "nuid": "e1f79b72-487e-44de-a48d-22098dd19d17",
     "showTitle": false,
     "tableResultSettingsMap": {},
     "title": ""
    }
   },
   "outputs": [],
   "source": [
    "%sql\n",
    "CREATE CATALOG IF NOT EXISTS first_phase;\n",
    "USE CATALOG first_phase;\n",
    "CREATE SCHEMA IF NOT EXISTS monitoring;\n",
    "USE SCHEMA monitoring;\n",
    "\n",
    "CREATE TABLE IF NOT EXISTS data_quality_metrics (\n",
    "    table_name STRING,\n",
    "    metric_name STRING,\n",
    "    metric_value DOUBLE,\n",
    "    check_timestamp TIMESTAMP,\n",
    "    status STRING,  -- 'OK', 'WARNING', 'ERROR'\n",
    "    details STRING\n",
    ");"
   ]
  },
  {
   "cell_type": "code",
   "execution_count": 0,
   "metadata": {
    "application/vnd.databricks.v1+cell": {
     "cellMetadata": {
      "byteLimit": 2048000,
      "implicitDf": true,
      "rowLimit": 10000
     },
     "inputWidgets": {},
     "nuid": "6e90c225-316c-4d5f-9697-9b0c6f02a058",
     "showTitle": false,
     "tableResultSettingsMap": {},
     "title": ""
    }
   },
   "outputs": [],
   "source": [
    "%sql\n",
    "CREATE TABLE IF NOT EXISTS load_history (\n",
    "    schema_name STRING,\n",
    "    table_name STRING,\n",
    "    load_timestamp TIMESTAMP,\n",
    "    rows_loaded BIGINT,\n",
    "    load_duration_seconds DOUBLE,\n",
    "    status STRING\n",
    ");\n",
    "\n",
    "CREATE TABLE IF NOT EXISTS schema_snapshots (\n",
    "    table_name STRING,\n",
    "    column_name STRING,\n",
    "    data_type STRING,\n",
    "    snapshot_timestamp TIMESTAMP\n",
    ");"
   ]
  }
 ],
 "metadata": {
  "application/vnd.databricks.v1+notebook": {
   "computePreferences": null,
   "dashboards": [],
   "environmentMetadata": {
    "base_environment": "",
    "environment_version": "3"
   },
   "inputWidgetPreferences": null,
   "language": "python",
   "notebookMetadata": {
    "mostRecentlyExecutedCommandWithImplicitDF": {
     "commandId": 6534592603271542,
     "dataframes": [
      "_sqldf"
     ]
    },
    "pythonIndentUnit": 4
   },
   "notebookName": "monitoring_init",
   "widgets": {}
  },
  "language_info": {
   "name": "python"
  }
 },
 "nbformat": 4,
 "nbformat_minor": 0
}
