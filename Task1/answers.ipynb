{
 "cells": [
  {
   "cell_type": "code",
   "execution_count": 0,
   "metadata": {
    "application/vnd.databricks.v1+cell": {
     "cellMetadata": {
      "byteLimit": 2048000,
      "implicitDf": true,
      "rowLimit": 10000
     },
     "inputWidgets": {},
     "nuid": "5bec27d3-8560-49ac-bd28-a192fedd5625",
     "showTitle": false,
     "tableResultSettingsMap": {},
     "title": ""
    }
   },
   "outputs": [],
   "source": [
    "%sql\n",
    "USE CATALOG first_phase;\n",
    "USE SCHEMA silver;"
   ]
  },
  {
   "cell_type": "code",
   "execution_count": 0,
   "metadata": {
    "application/vnd.databricks.v1+cell": {
     "cellMetadata": {
      "byteLimit": 2048000,
      "implicitDf": true,
      "rowLimit": 10000
     },
     "inputWidgets": {},
     "nuid": "f6bd45ee-5a38-4b69-892f-f79baf07793d",
     "showTitle": false,
     "tableResultSettingsMap": {},
     "title": ""
    }
   },
   "outputs": [],
   "source": [
    "%sql\n",
    "-- How many items in total customer 446044 bought?\n",
    "SELECT SUM(l_quantity) AS total_items_bought FROM silver.lineitem AS l\n",
    "JOIN silver.orders AS o ON l.l_orderkey = o.o_orderkey\n",
    "JOIN silver.customer AS c ON o.o_custkey = c.c_custkey\n",
    "WHERE c.c_custkey = 446044;"
   ]
  },
  {
   "cell_type": "code",
   "execution_count": 0,
   "metadata": {
    "application/vnd.databricks.v1+cell": {
     "cellMetadata": {
      "byteLimit": 2048000,
      "implicitDf": true,
      "rowLimit": 10000
     },
     "inputWidgets": {},
     "nuid": "3ce93f68-a755-4c51-9588-ed993847fc41",
     "showTitle": false,
     "tableResultSettingsMap": {},
     "title": ""
    }
   },
   "outputs": [],
   "source": [
    "%sql\n",
    "-- What is the first purchase date of the customer 564787?\n",
    "SELECT MIN(o.o_orderdate) AS first_purchase_date FROM silver.orders AS o\n",
    "JOIN silver.customer AS c ON o.o_custkey = c.c_custkey\n",
    "WHERE c.c_custkey = 564787;\n"
   ]
  },
  {
   "cell_type": "code",
   "execution_count": 0,
   "metadata": {
    "application/vnd.databricks.v1+cell": {
     "cellMetadata": {
      "byteLimit": 2048000,
      "implicitDf": true,
      "rowLimit": 10000
     },
     "inputWidgets": {},
     "nuid": "3750e315-00f3-4b8e-9111-4af316d3044f",
     "showTitle": false,
     "tableResultSettingsMap": {},
     "title": ""
    }
   },
   "outputs": [],
   "source": [
    "%sql\n",
    "-- How many orders customer 85909 made in total?\n",
    "SELECT COUNT(o.o_orderkey) AS total_orders FROM silver.orders AS o\n",
    "JOIN silver.customer AS c ON o.o_custkey = c.c_custkey\n",
    "WHERE c.c_custkey = 85909;\n"
   ]
  },
  {
   "cell_type": "code",
   "execution_count": 0,
   "metadata": {
    "application/vnd.databricks.v1+cell": {
     "cellMetadata": {
      "byteLimit": 2048000,
      "implicitDf": true,
      "rowLimit": 10000
     },
     "inputWidgets": {},
     "nuid": "41731a71-d68b-4f14-889b-37a692afb6db",
     "showTitle": false,
     "tableResultSettingsMap": {},
     "title": ""
    }
   },
   "outputs": [],
   "source": [
    "%sql\n",
    "-- What is the nationality of customer who made the most orders in total?\n",
    "SELECT n.n_name AS nationality, c.c_custkey, COUNT(o.o_orderkey) AS total_orders FROM silver.customer AS c\n",
    "JOIN silver.orders AS o ON c.c_custkey = o.o_custkey\n",
    "JOIN silver.nation AS n ON c.c_nationkey = n.n_nationkey\n",
    "GROUP BY n.n_name, c.c_custkey\n",
    "ORDER BY total_orders DESC\n"
   ]
  }
 ],
 "metadata": {
  "application/vnd.databricks.v1+notebook": {
   "computePreferences": null,
   "dashboards": [],
   "environmentMetadata": {
    "base_environment": "",
    "environment_version": "3"
   },
   "inputWidgetPreferences": null,
   "language": "python",
   "notebookMetadata": {
    "mostRecentlyExecutedCommandWithImplicitDF": {
     "commandId": 6934717348265763,
     "dataframes": [
      "_sqldf"
     ]
    },
    "pythonIndentUnit": 4
   },
   "notebookName": "answers",
   "widgets": {}
  },
  "language_info": {
   "name": "python"
  }
 },
 "nbformat": 4,
 "nbformat_minor": 0
}
