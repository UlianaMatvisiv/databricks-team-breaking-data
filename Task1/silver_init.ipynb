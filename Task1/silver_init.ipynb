{
 "cells": [
  {
   "cell_type": "code",
   "execution_count": 0,
   "metadata": {
    "application/vnd.databricks.v1+cell": {
     "cellMetadata": {
      "byteLimit": 2048000,
      "rowLimit": 10000
     },
     "inputWidgets": {},
     "nuid": "acbd0bea-ca5d-4989-a293-ab160e8f1d44",
     "showTitle": false,
     "tableResultSettingsMap": {},
     "title": ""
    }
   },
   "outputs": [],
   "source": [
    "%sql\n",
    "-- widgets\n",
    "CREATE WIDGET TEXT catalog DEFAULT 'first_phase';\n",
    "CREATE WIDGET TEXT bronze_schema DEFAULT 'bronze';\n",
    "CREATE WIDGET TEXT silver_schema DEFAULT 'silver';\n",
    "\n",
    "-- ensure catalog/schema exist\n",
    "CREATE CATALOG IF NOT EXISTS ${catalog};\n",
    "USE CATALOG ${catalog};\n",
    "CREATE SCHEMA IF NOT EXISTS ${silver_schema};\n",
    "USE SCHEMA ${silver_schema};\n",
    "\n",
    "-- (re)create silver tables by copying bronze\n",
    "CREATE OR REPLACE TABLE ${catalog}.${silver_schema}.customer  AS SELECT * FROM ${catalog}.${bronze_schema}.customer;\n",
    "CREATE OR REPLACE TABLE ${catalog}.${silver_schema}.orders    AS SELECT * FROM ${catalog}.${bronze_schema}.orders;\n",
    "CREATE OR REPLACE TABLE ${catalog}.${silver_schema}.lineitem  AS SELECT * FROM ${catalog}.${bronze_schema}.lineitem;\n",
    "CREATE OR REPLACE TABLE ${catalog}.${silver_schema}.nation    AS SELECT * FROM ${catalog}.${bronze_schema}.nation;\n",
    "CREATE OR REPLACE TABLE ${catalog}.${silver_schema}.region    AS SELECT * FROM ${catalog}.${bronze_schema}.region;\n",
    "CREATE OR REPLACE TABLE ${catalog}.${silver_schema}.part      AS SELECT * FROM ${catalog}.${bronze_schema}.part;\n",
    "CREATE OR REPLACE TABLE ${catalog}.${silver_schema}.partsupp  AS SELECT * FROM ${catalog}.${bronze_schema}.partsupp;\n",
    "CREATE OR REPLACE TABLE ${catalog}.${silver_schema}.supplier  AS SELECT * FROM ${catalog}.${bronze_schema}.supplier;\n"
   ]
  }
 ],
 "metadata": {
  "application/vnd.databricks.v1+notebook": {
   "computePreferences": null,
   "dashboards": [],
   "environmentMetadata": {
    "base_environment": "",
    "environment_version": "3"
   },
   "inputWidgetPreferences": null,
   "language": "python",
   "notebookMetadata": {
    "pythonIndentUnit": 4
   },
   "notebookName": "silver_init",
   "widgets": {
    "bronze_schema": {
     "currentValue": "bronze",
     "nuid": "a4b8a2af-3861-453e-8e12-91734f6d57b8",
     "typedWidgetInfo": {
      "autoCreated": false,
      "defaultValue": "bronze",
      "label": null,
      "name": "bronze_schema",
      "options": {
       "widgetDisplayType": "Text",
       "validationRegex": null
      },
      "parameterDataType": "String"
     },
     "widgetInfo": {
      "widgetType": "text",
      "defaultValue": "bronze",
      "label": null,
      "name": "bronze_schema",
      "options": {
       "widgetType": "text",
       "autoCreated": null,
       "validationRegex": null
      }
     }
    },
    "catalog": {
     "currentValue": "first_phase",
     "nuid": "acdd4050-a9d3-41d5-8394-ed125fc5ffaf",
     "typedWidgetInfo": {
      "autoCreated": false,
      "defaultValue": "first_phase",
      "label": null,
      "name": "catalog",
      "options": {
       "widgetDisplayType": "Text",
       "validationRegex": null
      },
      "parameterDataType": "String"
     },
     "widgetInfo": {
      "widgetType": "text",
      "defaultValue": "first_phase",
      "label": null,
      "name": "catalog",
      "options": {
       "widgetType": "text",
       "autoCreated": null,
       "validationRegex": null
      }
     }
    },
    "silver_schema": {
     "currentValue": "silver",
     "nuid": "0731314a-7204-4b78-92f9-bdbbd7e1a329",
     "typedWidgetInfo": {
      "autoCreated": false,
      "defaultValue": "silver",
      "label": null,
      "name": "silver_schema",
      "options": {
       "widgetDisplayType": "Text",
       "validationRegex": null
      },
      "parameterDataType": "String"
     },
     "widgetInfo": {
      "widgetType": "text",
      "defaultValue": "silver",
      "label": null,
      "name": "silver_schema",
      "options": {
       "widgetType": "text",
       "autoCreated": null,
       "validationRegex": null
      }
     }
    }
   }
  },
  "language_info": {
   "name": "python"
  }
 },
 "nbformat": 4,
 "nbformat_minor": 0
}
