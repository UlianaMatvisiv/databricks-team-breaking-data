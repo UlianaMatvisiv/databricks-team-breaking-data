{
 "cells": [
  {
   "cell_type": "code",
   "execution_count": 0,
   "metadata": {
    "application/vnd.databricks.v1+cell": {
     "cellMetadata": {
      "byteLimit": 2048000,
      "rowLimit": 10000
     },
     "inputWidgets": {},
     "nuid": "f162fcc3-2228-43cf-9539-0da5dea79bfe",
     "showTitle": false,
     "tableResultSettingsMap": {},
     "title": ""
    }
   },
   "outputs": [],
   "source": [
    "CREATE CATALOG IF NOT EXISTS first_phase;\n",
    "USE CATALOG first_phase;\n",
    "CREATE SCHEMA IF NOT EXISTS bronze;\n",
    "CREATE SCHEMA IF NOT EXISTS silver;\n",
    "\n",
    "CREATE OR REPLACE TABLE first_phase.bronze.customer AS SELECT * FROM samples.tpch.customer;\n",
    "CREATE OR REPLACE TABLE first_phase.bronze.orders AS SELECT * FROM samples.tpch.orders;\n",
    "CREATE OR REPLACE TABLE first_phase.bronze.lineitem AS SELECT * FROM samples.tpch.lineitem;\n",
    "CREATE OR REPLACE TABLE first_phase.bronze.nation AS SELECT * FROM samples.tpch.nation;\n",
    "CREATE OR REPLACE TABLE first_phase.bronze.region AS SELECT * FROM samples.tpch.region;\n",
    "CREATE OR REPLACE TABLE first_phase.bronze.part AS SELECT * FROM samples.tpch.part;\n",
    "CREATE OR REPLACE TABLE first_phase.bronze.partsupp AS SELECT * FROM samples.tpch.partsupp;\n",
    "CREATE OR REPLACE TABLE first_phase.bronze.supplier AS SELECT * FROM samples.tpch.supplier;\n"
   ]
  }
 ],
 "metadata": {
  "application/vnd.databricks.v1+notebook": {
   "computePreferences": null,
   "dashboards": [],
   "environmentMetadata": {
    "base_environment": "",
    "environment_version": "3"
   },
   "inputWidgetPreferences": null,
   "language": "sql",
   "notebookMetadata": {
    "pythonIndentUnit": 4
   },
   "notebookName": "bronze_init",
   "widgets": {
    "bronze_schema": {
     "currentValue": "bronze",
     "nuid": "ba3b84cb-2cdf-47c2-9414-9b6eeaf54e9e",
     "typedWidgetInfo": {
      "autoCreated": false,
      "defaultValue": "bronze",
      "label": null,
      "name": "bronze_schema",
      "options": {
       "widgetDisplayType": "Text",
       "validationRegex": null
      },
      "parameterDataType": "String"
     },
     "widgetInfo": {
      "widgetType": "text",
      "defaultValue": "bronze",
      "label": null,
      "name": "bronze_schema",
      "options": {
       "widgetType": "text",
       "autoCreated": null,
       "validationRegex": null
      }
     }
    },
    "catalog": {
     "currentValue": "first_phase",
     "nuid": "0e15e99f-5eba-4975-aa62-c415e34bc887",
     "typedWidgetInfo": {
      "autoCreated": false,
      "defaultValue": "first_phase",
      "label": null,
      "name": "catalog",
      "options": {
       "widgetDisplayType": "Text",
       "validationRegex": null
      },
      "parameterDataType": "String"
     },
     "widgetInfo": {
      "widgetType": "text",
      "defaultValue": "first_phase",
      "label": null,
      "name": "catalog",
      "options": {
       "widgetType": "text",
       "autoCreated": null,
       "validationRegex": null
      }
     }
    },
    "silver_schema": {
     "currentValue": "silver",
     "nuid": "a95ba899-9730-44ce-aa10-4fdbee2d043e",
     "typedWidgetInfo": {
      "autoCreated": false,
      "defaultValue": "silver",
      "label": null,
      "name": "silver_schema",
      "options": {
       "widgetDisplayType": "Text",
       "validationRegex": null
      },
      "parameterDataType": "String"
     },
     "widgetInfo": {
      "widgetType": "text",
      "defaultValue": "silver",
      "label": null,
      "name": "silver_schema",
      "options": {
       "widgetType": "text",
       "autoCreated": null,
       "validationRegex": null
      }
     }
    },
    "source_catalog": {
     "currentValue": "samples",
     "nuid": "9069c12d-b116-4afd-b5c7-ae60b8b25afe",
     "typedWidgetInfo": {
      "autoCreated": false,
      "defaultValue": "samples",
      "label": null,
      "name": "source_catalog",
      "options": {
       "widgetDisplayType": "Text",
       "validationRegex": null
      },
      "parameterDataType": "String"
     },
     "widgetInfo": {
      "widgetType": "text",
      "defaultValue": "samples",
      "label": null,
      "name": "source_catalog",
      "options": {
       "widgetType": "text",
       "autoCreated": false,
       "validationRegex": null
      }
     }
    },
    "source_schema": {
     "currentValue": "tpch",
     "nuid": "74118738-ec20-4066-b814-46e7cbb90da7",
     "typedWidgetInfo": {
      "autoCreated": false,
      "defaultValue": "tpch",
      "label": "",
      "name": "source_schema",
      "options": {
       "widgetDisplayType": "Text",
       "validationRegex": null
      },
      "parameterDataType": "String"
     },
     "widgetInfo": {
      "widgetType": "text",
      "defaultValue": "tpch",
      "label": "",
      "name": "source_schema",
      "options": {
       "widgetType": "text",
       "autoCreated": false,
       "validationRegex": null
      }
     }
    }
   }
  },
  "language_info": {
   "name": "sql"
  }
 },
 "nbformat": 4,
 "nbformat_minor": 0
}
