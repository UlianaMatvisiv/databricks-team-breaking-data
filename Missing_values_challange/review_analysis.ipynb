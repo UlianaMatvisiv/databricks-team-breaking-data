{
 "cells": [
  {
   "cell_type": "markdown",
   "metadata": {
    "application/vnd.databricks.v1+cell": {
     "cellMetadata": {
      "byteLimit": 2048000,
      "rowLimit": 10000
     },
     "inputWidgets": {},
     "nuid": "9b1c6985-16b0-4910-ba98-4d5484445dfe",
     "showTitle": false,
     "tableResultSettingsMap": {},
     "title": ""
    }
   },
   "source": [
    "First of all, let`s read the data, that was downloaded earlier."
   ]
  },
  {
   "cell_type": "code",
   "execution_count": 0,
   "metadata": {
    "application/vnd.databricks.v1+cell": {
     "cellMetadata": {
      "byteLimit": 2048000,
      "rowLimit": 10000
     },
     "inputWidgets": {},
     "nuid": "86afe39f-ce0d-4b7a-9885-b73e3f905578",
     "showTitle": false,
     "tableResultSettingsMap": {},
     "title": ""
    }
   },
   "outputs": [],
   "source": [
    "raw_df = spark.read.table('airbnb.raw.listings')\n",
    "display(raw_df)"
   ]
  },
  {
   "cell_type": "code",
   "execution_count": 0,
   "metadata": {
    "application/vnd.databricks.v1+cell": {
     "cellMetadata": {
      "byteLimit": 2048000,
      "rowLimit": 10000
     },
     "inputWidgets": {},
     "nuid": "1ce85dfb-792b-4107-bd31-c430c3ff01b7",
     "showTitle": false,
     "tableResultSettingsMap": {},
     "title": ""
    }
   },
   "outputs": [],
   "source": [
    "from pyspark.sql import functions as F\n",
    "\n",
    "missing_reviews = raw_df.filter(F.col(\"reviews_per_month\").isNull())\n",
    "missing_scores = raw_df.filter(F.col(\"review_scores_value\").isNull())\n",
    "\n",
    "raw_df.select([\n",
    "    F.count(F.when(F.col(\"reviews_per_month\").isNull(), 1)).alias(\"missing_reviews_per_month\"),\n",
    "    F.count(F.when(F.col(\"review_scores_value\").isNull(), 1)).alias(\"missing_review_scores_value\"),\n",
    "]).show()"
   ]
  },
  {
   "cell_type": "markdown",
   "metadata": {
    "application/vnd.databricks.v1+cell": {
     "cellMetadata": {
      "byteLimit": 2048000,
      "rowLimit": 10000
     },
     "inputWidgets": {},
     "nuid": "b2dca096-a81d-497f-953e-6d18aa1e26ea",
     "showTitle": false,
     "tableResultSettingsMap": {},
     "title": ""
    }
   },
   "source": [
    "There is mismatch between whole amount of the reviews and amount of scores -- we assume that mismatch is because of some airbnb is new enough to get a review. This is hypothesis number I."
   ]
  },
  {
   "cell_type": "code",
   "execution_count": 0,
   "metadata": {
    "application/vnd.databricks.v1+cell": {
     "cellMetadata": {
      "byteLimit": 2048000,
      "rowLimit": 10000
     },
     "inputWidgets": {},
     "nuid": "1a14c3a5-5dc0-4b9c-8b12-9090e1fcf8d3",
     "showTitle": false,
     "tableResultSettingsMap": {},
     "title": ""
    }
   },
   "outputs": [],
   "source": [
    "new_listings = raw_df.filter(F.col(\"reviews_per_month\").isNull()) \\\n",
    "  .select(\"host_id\", \"host_since\", \"reviews_per_month\", \"number_of_reviews\", \"last_review\") \\\n",
    "  .show()"
   ]
  },
  {
   "cell_type": "markdown",
   "metadata": {
    "application/vnd.databricks.v1+cell": {
     "cellMetadata": {
      "byteLimit": 2048000,
      "rowLimit": 10000
     },
     "inputWidgets": {},
     "nuid": "1ad41d3f-7f45-41c0-b9d8-1e4beee7c44e",
     "showTitle": false,
     "tableResultSettingsMap": {},
     "title": ""
    }
   },
   "source": [
    "Our I. hypothesis was incorrect -- host_since is showing, that hosts are already few years in the database."
   ]
  },
  {
   "cell_type": "markdown",
   "metadata": {
    "application/vnd.databricks.v1+cell": {
     "cellMetadata": {
      "byteLimit": 2048000,
      "rowLimit": 10000
     },
     "inputWidgets": {},
     "nuid": "f2843a28-0668-401c-a0c3-18b94a5b6f5e",
     "showTitle": false,
     "tableResultSettingsMap": {},
     "title": ""
    }
   },
   "source": [
    "Our II. hypothesis will be about property: maybe it is affecting the popularity."
   ]
  },
  {
   "cell_type": "code",
   "execution_count": 0,
   "metadata": {
    "application/vnd.databricks.v1+cell": {
     "cellMetadata": {
      "byteLimit": 2048000,
      "rowLimit": 10000
     },
     "inputWidgets": {},
     "nuid": "211e5991-eba8-4c9b-aee6-73abf4a30c24",
     "showTitle": false,
     "tableResultSettingsMap": {},
     "title": ""
    }
   },
   "outputs": [],
   "source": [
    "properties = raw_df.groupBy(\"property_type\").agg(\n",
    "    F.mean(F.when(F.col(\"reviews_per_month\").isNull(), 1).otherwise(0)).alias(\"missing_reviews_rate\")\n",
    ").orderBy(F.desc(\"missing_reviews_rate\")).show()\n"
   ]
  },
  {
   "cell_type": "markdown",
   "metadata": {
    "application/vnd.databricks.v1+cell": {
     "cellMetadata": {
      "byteLimit": 2048000,
      "rowLimit": 10000
     },
     "inputWidgets": {},
     "nuid": "e781763d-f4eb-4fcb-b693-929549aa421d",
     "showTitle": false,
     "tableResultSettingsMap": {},
     "title": ""
    }
   },
   "source": [
    "Here, in this table, from 0-1 == 1 is the 100% missing values. \n",
    "\n",
    "What we can see:\n",
    "1. Some of the property - for example room in aparthotel - are under 0.5\n",
    "That means that these listings have a lot of reviews, but sometimes reviews are still missing\n",
    "2. Private room in boat and etc -- exotic variants, that we assume not attract a lot of customers - that is why reviews are missing.\n",
    "3. Only three variants are missing reviews completely -- perhaps, it is appeared from new listings or lack of popularuty.\n",
    "\n",
    "That is why our II. hypothesis is mostly correct, but not 100% correct."
   ]
  },
  {
   "cell_type": "markdown",
   "metadata": {
    "application/vnd.databricks.v1+cell": {
     "cellMetadata": {
      "byteLimit": 2048000,
      "rowLimit": 10000
     },
     "inputWidgets": {},
     "nuid": "3ea9a4be-5ecc-47d9-9bc1-bd535ef87049",
     "showTitle": false,
     "tableResultSettingsMap": {},
     "title": ""
    }
   },
   "source": [
    "III. hypothesis is about rarely booked rooms. For this we will compare column \"availibiality_365\""
   ]
  },
  {
   "cell_type": "code",
   "execution_count": 0,
   "metadata": {
    "application/vnd.databricks.v1+cell": {
     "cellMetadata": {
      "byteLimit": 2048000,
      "rowLimit": 10000
     },
     "inputWidgets": {},
     "nuid": "6afd9d36-f2bd-47c3-b1fd-b165795d750a",
     "showTitle": false,
     "tableResultSettingsMap": {},
     "title": ""
    }
   },
   "outputs": [],
   "source": [
    "raw_df.groupBy(F.when(F.col(\"reviews_per_month\").isNull(), \"Missing\")\n",
    "            .otherwise(\"Has reviews\").alias(\"Review_Status\")) \\\n",
    "  .agg(F.avg(\"availability_365\").alias(\"avg_availability\")) \\\n",
    "  .show()\n"
   ]
  },
  {
   "cell_type": "markdown",
   "metadata": {
    "application/vnd.databricks.v1+cell": {
     "cellMetadata": {
      "byteLimit": 2048000,
      "rowLimit": 10000
     },
     "inputWidgets": {},
     "nuid": "fc8e523c-0c4e-4a80-a254-74d8cde9117d",
     "showTitle": false,
     "tableResultSettingsMap": {},
     "title": ""
    }
   },
   "source": [
    "\n",
    "Listings with missing reviews_per_month values actually appear to have slightly fewer available days (so they are booked a bit more) than those with reviews.\n",
    "\n",
    "Our III. hypothesis was wrong (or false positive) == availability alone is not a strong predictor of missing reviews in this dataset."
   ]
  },
  {
   "cell_type": "markdown",
   "metadata": {
    "application/vnd.databricks.v1+cell": {
     "cellMetadata": {
      "byteLimit": 2048000,
      "rowLimit": 10000
     },
     "inputWidgets": {},
     "nuid": "9c0c638c-8fff-49e1-85b1-3676e6330cca",
     "showTitle": false,
     "tableResultSettingsMap": {},
     "title": ""
    }
   },
   "source": [
    "Our last IV. hypothesis will be about the price: will the \"avg_price\" affect the number of reviews? "
   ]
  },
  {
   "cell_type": "code",
   "execution_count": 0,
   "metadata": {
    "application/vnd.databricks.v1+cell": {
     "cellMetadata": {
      "byteLimit": 2048000,
      "rowLimit": 10000
     },
     "inputWidgets": {},
     "nuid": "9ae3402b-0de0-4b9b-b79f-994d099764ec",
     "showTitle": false,
     "tableResultSettingsMap": {},
     "title": ""
    }
   },
   "outputs": [],
   "source": [
    "df = raw_df.withColumn(\n",
    "    \"price_clean\",\n",
    "    F.regexp_replace(F.col(\"price\"), \"[$,]\", \"\").cast(\"double\")\n",
    ")\n",
    "# df.select(\"price\", \"price_clean\").show(5)\n",
    "price = df.groupBy(F.when(F.col(\"reviews_per_month\").isNull(), \"Missing\")\n",
    "            .otherwise(\"Has reviews\").alias(\"Review_Status\")) \\\n",
    "  .agg(F.avg(\"price_clean\").alias(\"avg_price\")) \\\n",
    "  .show()\n"
   ]
  },
  {
   "cell_type": "markdown",
   "metadata": {
    "application/vnd.databricks.v1+cell": {
     "cellMetadata": {
      "byteLimit": 2048000,
      "rowLimit": 10000
     },
     "inputWidgets": {},
     "nuid": "825acecf-8a80-4c3f-b851-3cc68f1b207c",
     "showTitle": false,
     "tableResultSettingsMap": {},
     "title": ""
    }
   },
   "source": [
    "Our IV. hypothesis was correct - average bookings with higher price has lack of reviews, while 21 euro less price already has a review."
   ]
  }
 ],
 "metadata": {
  "application/vnd.databricks.v1+notebook": {
   "computePreferences": null,
   "dashboards": [],
   "environmentMetadata": {
    "base_environment": "",
    "environment_version": "4"
   },
   "inputWidgetPreferences": null,
   "language": "python",
   "notebookMetadata": {
    "pythonIndentUnit": 4
   },
   "notebookName": "review_analysis",
   "widgets": {}
  },
  "language_info": {
   "name": "python"
  }
 },
 "nbformat": 4,
 "nbformat_minor": 0
}
